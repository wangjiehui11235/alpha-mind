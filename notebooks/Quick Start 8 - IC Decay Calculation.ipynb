{
 "cells": [
  {
   "cell_type": "code",
   "execution_count": 1,
   "metadata": {},
   "outputs": [],
   "source": [
    "%matplotlib inline\n",
    "import os\n",
    "import numpy as np\n",
    "import pandas as pd\n",
    "from alphamind.api import *\n",
    "from PyFin.api import *\n",
    "\n",
    "from matplotlib import rc\n",
    "from matplotlib import pyplot as plt\n",
    "\n",
    "plt.style.use(\"seaborn-poster\")\n",
    "rc('font', **{'family': 'Microsoft Yahei', 'size': 10})\n",
    "rc('mathtext', **{'default': 'regular'})\n",
    "rc('legend', **{'frameon': False})"
   ]
  },
  {
   "cell_type": "code",
   "execution_count": 36,
   "metadata": {},
   "outputs": [],
   "source": [
    "factor_name = 'ETOP'\n",
    "neutralized_styles = industry_styles\n",
    "start_date = '2010-01-01'\n",
    "end_date = '2019-03-01'\n",
    "engine = SqlEngine(os.environ['DB_URI'])\n",
    "universe_name = 'ashare_ex'\n",
    "freq = '21b'"
   ]
  },
  {
   "cell_type": "code",
   "execution_count": 37,
   "metadata": {},
   "outputs": [],
   "source": [
    "factors = {'ROE': LAST(factor_name),\n",
    "           'ROE_l1': SHIFT(LAST(factor_name), 1),\n",
    "           'ROE_l2': SHIFT(LAST(factor_name), 2),\n",
    "           'ROE_l3': SHIFT(LAST(factor_name), 3)}\n",
    "\n",
    "factors_names = list(factors.keys())"
   ]
  },
  {
   "cell_type": "code",
   "execution_count": 38,
   "metadata": {},
   "outputs": [],
   "source": [
    "universe = Universe(universe_name)\n",
    "dates = makeSchedule(start_date, end_date, freq, calendar='china.sse')\n",
    "factors = engine.fetch_factor_range(universe, factors, dates=dates)\n",
    "risk_cov, risk_factors = engine.fetch_risk_model_range(universe, dates=dates)\n",
    "dx_returns = engine.fetch_dx_return_range(universe, dates=dates, horizon=map_freq(freq))\n",
    "total_data = pd.merge(factors, risk_factors, on=['trade_date', 'code'])\n",
    "total_data = pd.merge(total_data, dx_returns, on=['trade_date', 'code'])\n",
    "total_data.dropna(inplace=True)"
   ]
  },
  {
   "cell_type": "code",
   "execution_count": 39,
   "metadata": {},
   "outputs": [],
   "source": [
    "neutralized_factors = neutralize(total_data[neutralized_styles].values.astype(float),\n",
    "                                 total_data[factors_names].values,\n",
    "                                 groups=total_data['trade_date'])\n",
    "total_data[factors_names] = neutralized_factors"
   ]
  },
  {
   "cell_type": "code",
   "execution_count": 40,
   "metadata": {},
   "outputs": [
    {
     "name": "stderr",
     "output_type": "stream",
     "text": [
      "d:\\ProgramData\\Anaconda3\\lib\\site-packages\\numpy\\lib\\function_base.py:2530: RuntimeWarning: invalid value encountered in true_divide\n",
      "  c /= stddev[:, None]\n",
      "d:\\ProgramData\\Anaconda3\\lib\\site-packages\\numpy\\lib\\function_base.py:2531: RuntimeWarning: invalid value encountered in true_divide\n",
      "  c /= stddev[None, :]\n"
     ]
    }
   ],
   "source": [
    "values = {}\n",
    "for f in factors_names:\n",
    "    ic_series = total_data.groupby('trade_date').apply(lambda x: np.corrcoef(x[f], x['dx'])[0, 1])\n",
    "    values[f] = ic_series.mean()\n",
    "values = pd.Series(values)"
   ]
  },
  {
   "cell_type": "code",
   "execution_count": 41,
   "metadata": {},
   "outputs": [
    {
     "data": {
      "text/plain": [
       "<matplotlib.axes._subplots.AxesSubplot at 0x2b949dca240>"
      ]
     },
     "execution_count": 41,
     "metadata": {},
     "output_type": "execute_result"
    },
    {
     "data": {
      "image/png": "[encoded data removed]",
      "text/plain": [
       "<Figure size 1008x576 with 1 Axes>"
      ]
     },
     "metadata": {
      "needs_background": "light"
     },
     "output_type": "display_data"
    }
   ],
   "source": [
    "values.plot(kind='bar', figsize=(14, 8))"
   ]
  },
  {
   "cell_type": "code",
   "execution_count": null,
   "metadata": {},
   "outputs": [],
   "source": []
  }
 ],
 "metadata": {
  "kernelspec": {
   "display_name": "Python 3",
   "language": "python",
   "name": "python3"
  },
  "language_info": {
   "codemirror_mode": {
    "name": "ipython",
    "version": 3
   },
   "file_extension": ".py",
   "mimetype": "text/x-python",
   "name": "python",
   "nbconvert_exporter": "python",
   "pygments_lexer": "ipython3",
   "version": "3.7.3"
  }
 },
 "nbformat": 4,
 "nbformat_minor": 2
}
